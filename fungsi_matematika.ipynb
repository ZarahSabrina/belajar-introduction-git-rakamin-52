{
 "cells": [
  {
   "cell_type": "markdown",
   "id": "d3b5ad54-0ac8-40c4-a15f-8a181ec2cca0",
   "metadata": {},
   "source": [
    "#Fungsi Penjumlahan"
   ]
  },
  {
   "cell_type": "code",
   "execution_count": 3,
   "id": "94dcd171-8733-4a96-8c20-dfffcb2e6b60",
   "metadata": {},
   "outputs": [],
   "source": [
    "def fungsi_penjumlahan(a,b):\n",
    "    return a+b"
   ]
  },
  {
   "cell_type": "code",
   "execution_count": 5,
   "id": "84b6f094-20e1-41f0-bbc9-9808c35be173",
   "metadata": {},
   "outputs": [
    {
     "data": {
      "text/plain": [
       "21"
      ]
     },
     "execution_count": 5,
     "metadata": {},
     "output_type": "execute_result"
    }
   ],
   "source": [
    "fungsi_penjumlahan(10,11)"
   ]
  },
  {
   "cell_type": "code",
   "execution_count": 8,
   "id": "1574e38a-4190-40ba-b75b-fcb83ccacbe3",
   "metadata": {},
   "outputs": [
    {
     "name": "stdout",
     "output_type": "stream",
     "text": [
      "hello world and hello git!\n"
     ]
    },
    {
     "ename": "ImportError",
     "evalue": "cannot import name 'fungsi_penjumlahan' from 'hello_git' (D:\\DataScience\\DataScience_RakaminAcademy\\Week_12\\belajar-introduction-git-rakamin-52\\hello_git.py)",
     "output_type": "error",
     "traceback": [
      "\u001b[1;31m---------------------------------------------------------------------------\u001b[0m",
      "\u001b[1;31mImportError\u001b[0m                               Traceback (most recent call last)",
      "Cell \u001b[1;32mIn[8], line 1\u001b[0m\n\u001b[1;32m----> 1\u001b[0m \u001b[38;5;28;01mfrom\u001b[39;00m \u001b[38;5;21;01mhello_git\u001b[39;00m \u001b[38;5;28;01mimport\u001b[39;00m fungsi_penjumlahan\n\u001b[0;32m      2\u001b[0m fungsi_penjumlahan(\u001b[38;5;241m11\u001b[39m,\u001b[38;5;241m23\u001b[39m)\n",
      "\u001b[1;31mImportError\u001b[0m: cannot import name 'fungsi_penjumlahan' from 'hello_git' (D:\\DataScience\\DataScience_RakaminAcademy\\Week_12\\belajar-introduction-git-rakamin-52\\hello_git.py)"
     ]
    }
   ],
   "source": [
    "def funhsi hello gi"
   ]
  }
 ],
 "metadata": {
  "kernelspec": {
   "display_name": "Python 3 (ipykernel)",
   "language": "python",
   "name": "python3"
  },
  "language_info": {
   "codemirror_mode": {
    "name": "ipython",
    "version": 3
   },
   "file_extension": ".py",
   "mimetype": "text/x-python",
   "name": "python",
   "nbconvert_exporter": "python",
   "pygments_lexer": "ipython3",
   "version": "3.12.7"
  }
 },
 "nbformat": 4,
 "nbformat_minor": 5
}
