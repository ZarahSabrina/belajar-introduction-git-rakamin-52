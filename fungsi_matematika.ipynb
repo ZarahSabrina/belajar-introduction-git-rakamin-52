{
 "cells": [
  {
   "cell_type": "markdown",
   "id": "d3b5ad54-0ac8-40c4-a15f-8a181ec2cca0",
   "metadata": {},
   "source": [
    "#Fungsi Penjumlahan"
   ]
  },
  {
   "cell_type": "code",
   "execution_count": 3,
   "id": "94dcd171-8733-4a96-8c20-dfffcb2e6b60",
   "metadata": {},
   "outputs": [],
   "source": [
    "def fungsi_penjumlahan(a,b):\n",
    "    return a+b"
   ]
  },
  {
   "cell_type": "code",
   "execution_count": 5,
   "id": "84b6f094-20e1-41f0-bbc9-9808c35be173",
   "metadata": {},
   "outputs": [
    {
     "data": {
      "text/plain": [
       "21"
      ]
     },
     "execution_count": 5,
     "metadata": {},
     "output_type": "execute_result"
    }
   ],
   "source": [
    "fungsi_penjumlahan(10,11)"
   ]
  }
 ],
 "metadata": {
  "kernelspec": {
   "display_name": "Python 3 (ipykernel)",
   "language": "python",
   "name": "python3"
  },
  "language_info": {
   "codemirror_mode": {
    "name": "ipython",
    "version": 3
   },
   "file_extension": ".py",
   "mimetype": "text/x-python",
   "name": "python",
   "nbconvert_exporter": "python",
   "pygments_lexer": "ipython3",
   "version": "3.12.7"
  }
 },
 "nbformat": 4,
 "nbformat_minor": 5
}
